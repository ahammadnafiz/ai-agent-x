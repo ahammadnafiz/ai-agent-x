{
 "cells": [
  {
   "cell_type": "markdown",
   "metadata": {},
   "source": [
    "<div align=\"center\">\n",
    "    <h1>Real-Time Movie Recommender System (IMDB Dataset)</h1>\n",
    "</div>\n",
    "\n",
    "Using ChromaDB, Hugging Face Embeddings & ChatGroq API"
   ]
  },
  {
   "cell_type": "markdown",
   "metadata": {},
   "source": [
    "# 🎯 Key Features\n",
    "\n",
    "### Core Capabilities\n",
    "- ✨ **Hybrid Recommendation System**\n",
    "    - Content-Based Filtering\n",
    "    - Collaborative Filtering\n",
    "    - Seamless Integration of Both Approaches\n",
    "\n",
    "### Advanced Functionality  \n",
    "- 🔄 **Real-Time Personalization**\n",
    "    - Dynamic User Behavior Analysis\n",
    "    - Adaptive Feedback Integration\n",
    "    - Continuous Learning System\n",
    "\n",
    "### Rich Data Integration\n",
    "- 🎬 **Comprehensive Movie Metadata**\n",
    "    - Movie Posters & Visual Assets\n",
    "    - Genre Classification\n",
    "    - Cast & Crew Information\n",
    "    - Performance Metrics (IMDB Scores, Votes)\n",
    "    - Box Office Statistics\n",
    "\n",
    "### AI Enhancement\n",
    "- 🤖 **ChatGroq-Powered Intelligence**\n",
    "    - Natural Language Explanations\n",
    "    - Contextual Recommendation Logic\n",
    "    - Human-Like Reasoning\n",
    "\n",
    "### Production Ready\n",
    "- ⚡ **Enterprise-Grade Infrastructure**\n",
    "    - FastAPI Backend\n",
    "    - Persistent ChromaDB Storage\n",
    "    - Scalable Architecture"
   ]
  },
  {
   "cell_type": "markdown",
   "metadata": {},
   "source": [
    "# Step 1: Load & Process the IMDB Dataset"
   ]
  },
  {
   "cell_type": "code",
   "execution_count": 1,
   "metadata": {},
   "outputs": [
    {
     "name": "stdout",
     "output_type": "stream",
     "text": [
      "<class 'pandas.core.frame.DataFrame'>\n",
      "RangeIndex: 1000 entries, 0 to 999\n",
      "Data columns (total 11 columns):\n",
      " #   Column        Non-Null Count  Dtype  \n",
      "---  ------        --------------  -----  \n",
      " 0   Series_Title  1000 non-null   object \n",
      " 1   Genre         1000 non-null   object \n",
      " 2   IMDB_Rating   1000 non-null   float64\n",
      " 3   Overview      1000 non-null   object \n",
      " 4   Director      1000 non-null   object \n",
      " 5   Star1         1000 non-null   object \n",
      " 6   Star2         1000 non-null   object \n",
      " 7   Star3         1000 non-null   object \n",
      " 8   Star4         1000 non-null   object \n",
      " 9   No_of_Votes   1000 non-null   int64  \n",
      " 10  Gross         1000 non-null   object \n",
      "dtypes: float64(1), int64(1), object(9)\n",
      "memory usage: 86.1+ KB\n",
      "None\n",
      "               Series_Title                 Genre  IMDB_Rating  \\\n",
      "0  The Shawshank Redemption                 Drama          9.3   \n",
      "1             The Godfather          Crime, Drama          9.2   \n",
      "2           The Dark Knight  Action, Crime, Drama          9.0   \n",
      "3    The Godfather: Part II          Crime, Drama          9.0   \n",
      "4              12 Angry Men          Crime, Drama          9.0   \n",
      "\n",
      "                                            Overview              Director  \\\n",
      "0  Two imprisoned men bond over a number of years...        Frank Darabont   \n",
      "1  An organized crime dynasty's aging patriarch t...  Francis Ford Coppola   \n",
      "2  When the menace known as the Joker wreaks havo...     Christopher Nolan   \n",
      "3  The early life and career of Vito Corleone in ...  Francis Ford Coppola   \n",
      "4  A jury holdout attempts to prevent a miscarria...          Sidney Lumet   \n",
      "\n",
      "            Star1           Star2          Star3           Star4  No_of_Votes  \\\n",
      "0     Tim Robbins  Morgan Freeman     Bob Gunton  William Sadler      2343110   \n",
      "1   Marlon Brando       Al Pacino     James Caan    Diane Keaton      1620367   \n",
      "2  Christian Bale    Heath Ledger  Aaron Eckhart   Michael Caine      2303232   \n",
      "3       Al Pacino  Robert De Niro  Robert Duvall    Diane Keaton      1129952   \n",
      "4     Henry Fonda     Lee J. Cobb  Martin Balsam    John Fiedler       689845   \n",
      "\n",
      "         Gross  \n",
      "0   28,341,469  \n",
      "1  134,966,411  \n",
      "2  534,858,444  \n",
      "3   57,300,000  \n",
      "4    4,360,000  \n"
     ]
    }
   ],
   "source": [
    "import pandas as pd\n",
    "\n",
    "# Load IMDB dataset\n",
    "df = pd.read_csv(\"Data/imdb_top_1000.csv\")\n",
    "\n",
    "# Select relevant features\n",
    "df = df[[\"Series_Title\", \"Genre\", \"IMDB_Rating\", \"Overview\", \"Director\",\n",
    "         \"Star1\", \"Star2\", \"Star3\", \"Star4\", \"No_of_Votes\", \"Gross\"]]\n",
    "\n",
    "# Handle missing values\n",
    "df.fillna(\"\", inplace=True)\n",
    "\n",
    "print(df.info())\n",
    "print(df.head())"
   ]
  },
  {
   "cell_type": "markdown",
   "metadata": {},
   "source": [
    "# Step 2: Convert Movies into Embeddings"
   ]
  },
  {
   "cell_type": "code",
   "execution_count": 2,
   "metadata": {},
   "outputs": [],
   "source": [
    "# (A) Generate Textual Representations\n",
    "df[\"movie_description\"] = df.apply(\n",
    "    lambda row: f\"\"\"{row['Series_Title']} is a {row['Genre']} movie, \n",
    "    directed by {row['Director']}, \n",
    "    starring {', '.join([row['Star1'], row['Star2'], row['Star3'], row['Star4']])}.\n",
    "    It has an IMDB rating of {row['IMDB_Rating']} and {row['No_of_Votes']} votes.\n",
    "    Overview: {row['Overview']}\"\"\".replace('\\n    ', ' ').strip(),\n",
    "    axis=1\n",
    ")\n"
   ]
  },
  {
   "cell_type": "code",
   "execution_count": 3,
   "metadata": {},
   "outputs": [
    {
     "name": "stderr",
     "output_type": "stream",
     "text": [
      "2025-03-24 18:10:07.461855: E external/local_xla/xla/stream_executor/cuda/cuda_fft.cc:467] Unable to register cuFFT factory: Attempting to register factory for plugin cuFFT when one has already been registered\n",
      "WARNING: All log messages before absl::InitializeLog() is called are written to STDERR\n",
      "E0000 00:00:1742818207.595337  141200 cuda_dnn.cc:8579] Unable to register cuDNN factory: Attempting to register factory for plugin cuDNN when one has already been registered\n",
      "E0000 00:00:1742818207.633317  141200 cuda_blas.cc:1407] Unable to register cuBLAS factory: Attempting to register factory for plugin cuBLAS when one has already been registered\n",
      "W0000 00:00:1742818207.874568  141200 computation_placer.cc:177] computation placer already registered. Please check linkage and avoid linking the same target more than once.\n",
      "W0000 00:00:1742818207.874614  141200 computation_placer.cc:177] computation placer already registered. Please check linkage and avoid linking the same target more than once.\n",
      "W0000 00:00:1742818207.874618  141200 computation_placer.cc:177] computation placer already registered. Please check linkage and avoid linking the same target more than once.\n",
      "W0000 00:00:1742818207.874621  141200 computation_placer.cc:177] computation placer already registered. Please check linkage and avoid linking the same target more than once.\n",
      "2025-03-24 18:10:07.898516: I tensorflow/core/platform/cpu_feature_guard.cc:210] This TensorFlow binary is optimized to use available CPU instructions in performance-critical operations.\n",
      "To enable the following instructions: AVX2 FMA, in other operations, rebuild TensorFlow with the appropriate compiler flags.\n"
     ]
    },
    {
     "name": "stdout",
     "output_type": "stream",
     "text": [
      "✅ Movie embeddings generated!\n"
     ]
    }
   ],
   "source": [
    "# (B) Convert Descriptions into Embeddings\n",
    "from sentence_transformers import SentenceTransformer\n",
    "\n",
    "# Load Hugging Face transformer model\n",
    "hf_model = SentenceTransformer(\"sentence-transformers/all-MiniLM-L6-v2\")\n",
    "\n",
    "# Generate embeddings\n",
    "df[\"embeddings\"] = df[\"movie_description\"].apply(lambda x: hf_model.encode(x))\n",
    "\n",
    "print(\"✅ Movie embeddings generated!\")\n"
   ]
  },
  {
   "cell_type": "code",
   "execution_count": 4,
   "metadata": {},
   "outputs": [
    {
     "data": {
      "text/html": [
       "<div>\n",
       "<style scoped>\n",
       "    .dataframe tbody tr th:only-of-type {\n",
       "        vertical-align: middle;\n",
       "    }\n",
       "\n",
       "    .dataframe tbody tr th {\n",
       "        vertical-align: top;\n",
       "    }\n",
       "\n",
       "    .dataframe thead th {\n",
       "        text-align: right;\n",
       "    }\n",
       "</style>\n",
       "<table border=\"1\" class=\"dataframe\">\n",
       "  <thead>\n",
       "    <tr style=\"text-align: right;\">\n",
       "      <th></th>\n",
       "      <th>Series_Title</th>\n",
       "      <th>Genre</th>\n",
       "      <th>IMDB_Rating</th>\n",
       "      <th>Overview</th>\n",
       "      <th>Director</th>\n",
       "      <th>Star1</th>\n",
       "      <th>Star2</th>\n",
       "      <th>Star3</th>\n",
       "      <th>Star4</th>\n",
       "      <th>No_of_Votes</th>\n",
       "      <th>Gross</th>\n",
       "      <th>movie_description</th>\n",
       "      <th>embeddings</th>\n",
       "    </tr>\n",
       "  </thead>\n",
       "  <tbody>\n",
       "    <tr>\n",
       "      <th>0</th>\n",
       "      <td>The Shawshank Redemption</td>\n",
       "      <td>Drama</td>\n",
       "      <td>9.3</td>\n",
       "      <td>Two imprisoned men bond over a number of years...</td>\n",
       "      <td>Frank Darabont</td>\n",
       "      <td>Tim Robbins</td>\n",
       "      <td>Morgan Freeman</td>\n",
       "      <td>Bob Gunton</td>\n",
       "      <td>William Sadler</td>\n",
       "      <td>2343110</td>\n",
       "      <td>28,341,469</td>\n",
       "      <td>The Shawshank Redemption is a Drama movie,  di...</td>\n",
       "      <td>[-0.08365406, -0.046357177, -0.091286466, -0.0...</td>\n",
       "    </tr>\n",
       "    <tr>\n",
       "      <th>1</th>\n",
       "      <td>The Godfather</td>\n",
       "      <td>Crime, Drama</td>\n",
       "      <td>9.2</td>\n",
       "      <td>An organized crime dynasty's aging patriarch t...</td>\n",
       "      <td>Francis Ford Coppola</td>\n",
       "      <td>Marlon Brando</td>\n",
       "      <td>Al Pacino</td>\n",
       "      <td>James Caan</td>\n",
       "      <td>Diane Keaton</td>\n",
       "      <td>1620367</td>\n",
       "      <td>134,966,411</td>\n",
       "      <td>The Godfather is a Crime, Drama movie,  direct...</td>\n",
       "      <td>[-0.09685207, -0.014758187, -0.08018005, 0.001...</td>\n",
       "    </tr>\n",
       "    <tr>\n",
       "      <th>2</th>\n",
       "      <td>The Dark Knight</td>\n",
       "      <td>Action, Crime, Drama</td>\n",
       "      <td>9.0</td>\n",
       "      <td>When the menace known as the Joker wreaks havo...</td>\n",
       "      <td>Christopher Nolan</td>\n",
       "      <td>Christian Bale</td>\n",
       "      <td>Heath Ledger</td>\n",
       "      <td>Aaron Eckhart</td>\n",
       "      <td>Michael Caine</td>\n",
       "      <td>2303232</td>\n",
       "      <td>534,858,444</td>\n",
       "      <td>The Dark Knight is a Action, Crime, Drama movi...</td>\n",
       "      <td>[0.0142227635, -0.004213256, -0.13376291, 0.01...</td>\n",
       "    </tr>\n",
       "    <tr>\n",
       "      <th>3</th>\n",
       "      <td>The Godfather: Part II</td>\n",
       "      <td>Crime, Drama</td>\n",
       "      <td>9.0</td>\n",
       "      <td>The early life and career of Vito Corleone in ...</td>\n",
       "      <td>Francis Ford Coppola</td>\n",
       "      <td>Al Pacino</td>\n",
       "      <td>Robert De Niro</td>\n",
       "      <td>Robert Duvall</td>\n",
       "      <td>Diane Keaton</td>\n",
       "      <td>1129952</td>\n",
       "      <td>57,300,000</td>\n",
       "      <td>The Godfather: Part II is a Crime, Drama movie...</td>\n",
       "      <td>[-0.047394026, 0.021395307, -0.0040077716, 0.0...</td>\n",
       "    </tr>\n",
       "    <tr>\n",
       "      <th>4</th>\n",
       "      <td>12 Angry Men</td>\n",
       "      <td>Crime, Drama</td>\n",
       "      <td>9.0</td>\n",
       "      <td>A jury holdout attempts to prevent a miscarria...</td>\n",
       "      <td>Sidney Lumet</td>\n",
       "      <td>Henry Fonda</td>\n",
       "      <td>Lee J. Cobb</td>\n",
       "      <td>Martin Balsam</td>\n",
       "      <td>John Fiedler</td>\n",
       "      <td>689845</td>\n",
       "      <td>4,360,000</td>\n",
       "      <td>12 Angry Men is a Crime, Drama movie,  directe...</td>\n",
       "      <td>[-0.033988014, 0.030317575, -0.121169224, 0.00...</td>\n",
       "    </tr>\n",
       "  </tbody>\n",
       "</table>\n",
       "</div>"
      ],
      "text/plain": [
       "               Series_Title                 Genre  IMDB_Rating  \\\n",
       "0  The Shawshank Redemption                 Drama          9.3   \n",
       "1             The Godfather          Crime, Drama          9.2   \n",
       "2           The Dark Knight  Action, Crime, Drama          9.0   \n",
       "3    The Godfather: Part II          Crime, Drama          9.0   \n",
       "4              12 Angry Men          Crime, Drama          9.0   \n",
       "\n",
       "                                            Overview              Director  \\\n",
       "0  Two imprisoned men bond over a number of years...        Frank Darabont   \n",
       "1  An organized crime dynasty's aging patriarch t...  Francis Ford Coppola   \n",
       "2  When the menace known as the Joker wreaks havo...     Christopher Nolan   \n",
       "3  The early life and career of Vito Corleone in ...  Francis Ford Coppola   \n",
       "4  A jury holdout attempts to prevent a miscarria...          Sidney Lumet   \n",
       "\n",
       "            Star1           Star2          Star3           Star4  No_of_Votes  \\\n",
       "0     Tim Robbins  Morgan Freeman     Bob Gunton  William Sadler      2343110   \n",
       "1   Marlon Brando       Al Pacino     James Caan    Diane Keaton      1620367   \n",
       "2  Christian Bale    Heath Ledger  Aaron Eckhart   Michael Caine      2303232   \n",
       "3       Al Pacino  Robert De Niro  Robert Duvall    Diane Keaton      1129952   \n",
       "4     Henry Fonda     Lee J. Cobb  Martin Balsam    John Fiedler       689845   \n",
       "\n",
       "         Gross                                  movie_description  \\\n",
       "0   28,341,469  The Shawshank Redemption is a Drama movie,  di...   \n",
       "1  134,966,411  The Godfather is a Crime, Drama movie,  direct...   \n",
       "2  534,858,444  The Dark Knight is a Action, Crime, Drama movi...   \n",
       "3   57,300,000  The Godfather: Part II is a Crime, Drama movie...   \n",
       "4    4,360,000  12 Angry Men is a Crime, Drama movie,  directe...   \n",
       "\n",
       "                                          embeddings  \n",
       "0  [-0.08365406, -0.046357177, -0.091286466, -0.0...  \n",
       "1  [-0.09685207, -0.014758187, -0.08018005, 0.001...  \n",
       "2  [0.0142227635, -0.004213256, -0.13376291, 0.01...  \n",
       "3  [-0.047394026, 0.021395307, -0.0040077716, 0.0...  \n",
       "4  [-0.033988014, 0.030317575, -0.121169224, 0.00...  "
      ]
     },
     "execution_count": 4,
     "metadata": {},
     "output_type": "execute_result"
    }
   ],
   "source": [
    "df.head()"
   ]
  },
  {
   "cell_type": "markdown",
   "metadata": {},
   "source": [
    "# Step 3: Store Movies in ChromaDB for Retrieval"
   ]
  },
  {
   "cell_type": "code",
   "execution_count": 5,
   "metadata": {},
   "outputs": [],
   "source": [
    "import os\n",
    "\n",
    "# Define the path to store the ChromaDB locally\n",
    "db_path = \"chroma_db_movies\"\n",
    "os.makedirs(db_path, exist_ok=True)  # Create directory if it doesn't exist"
   ]
  },
  {
   "cell_type": "code",
   "execution_count": null,
   "metadata": {},
   "outputs": [],
   "source": [
    "# (A) Initialize ChromaDB\n",
    "from chromadb import PersistentClient\n",
    "from chromadb.utils.embedding_functions import SentenceTransformerEmbeddingFunction\n",
    "\n",
    "chroma_client = PersistentClient(path=db_path)\n",
    "\n",
    "# Define embedding function\n",
    "hf_embeddings = SentenceTransformerEmbeddingFunction(\"sentence-transformers/all-MiniLM-L6-v2\")\n",
    "\n",
    "# Create ChromaDB collection\n",
    "movie_db = chroma_client.create_collection(name=\"movies\", embedding_function=hf_embeddings)"
   ]
  },
  {
   "cell_type": "code",
   "execution_count": 8,
   "metadata": {},
   "outputs": [
    {
     "name": "stdout",
     "output_type": "stream",
     "text": [
      "✅ Movies stored in ChromaDB!\n"
     ]
    }
   ],
   "source": [
    "# (B) Add Movies to ChromaDB\n",
    "for i, row in df.iterrows():\n",
    "    movie_db.add(\n",
    "        ids=[str(i)],  # Unique movie ID\n",
    "        embeddings=[row[\"embeddings\"]],  # Embedding vector\n",
    "        metadatas=[{\"title\": row[\"Series_Title\"], \"genre\": row[\"Genre\"], \"director\": row[\"Director\"],\n",
    "                    \"stars\": \", \".join([row[\"Star1\"], row[\"Star2\"], row[\"Star3\"], row[\"Star4\"]]),\n",
    "                    \"imdb_rating\": float(row[\"IMDB_Rating\"]), \"votes\": int(row[\"No_of_Votes\"]),\n",
    "                    \"overview\": row[\"Overview\"], \"gross\": str(row[\"Gross\"])}]\n",
    "    )\n",
    "\n",
    "print(\"✅ Movies stored in ChromaDB!\")"
   ]
  },
  {
   "cell_type": "markdown",
   "metadata": {},
   "source": [
    "# Build a Personalized Recommendation System"
   ]
  },
  {
   "cell_type": "code",
   "execution_count": 9,
   "metadata": {},
   "outputs": [],
   "source": [
    "# (A) Search for Similar Movies\n",
    "def get_similar_movies(movie_name, k=5):\n",
    "    movie_info = df[df[\"Series_Title\"] == movie_name].iloc[0]\n",
    "    query_embedding = hf_model.encode(movie_info[\"movie_description\"])\n",
    "\n",
    "    # Retrieve similar movies\n",
    "    results = movie_db.query(query_embeddings=[query_embedding], n_results=k)\n",
    "\n",
    "    return [res[\"title\"] for res in results[\"metadatas\"][0] if res[\"title\"] != movie_name]"
   ]
  },
  {
   "cell_type": "code",
   "execution_count": 10,
   "metadata": {},
   "outputs": [
    {
     "name": "stdout",
     "output_type": "stream",
     "text": [
      "🎥 Recommended Movies: ['Memento', 'The Matrix', 'Interstellar', 'The Godfather: Part III']\n"
     ]
    }
   ],
   "source": [
    "# (B) Get Recommendations\n",
    "print(\"🎥 Recommended Movies:\", get_similar_movies(\"Inception\"))"
   ]
  },
  {
   "cell_type": "markdown",
   "metadata": {},
   "source": [
    "# Real-Time User Personalization"
   ]
  },
  {
   "cell_type": "code",
   "execution_count": 11,
   "metadata": {},
   "outputs": [],
   "source": [
    "user_profiles = {\n",
    "    \"U001\": {\n",
    "        \"liked_genres\": [\"Sci-Fi\", \"Thriller\"],\n",
    "        \"favorite_actors\": [\"Leonardo DiCaprio\", \"Robert Downey Jr.\"],\n",
    "        \"recent_watches\": [\"Inception\", \"Interstellar\", \"Iron Man\"],\n",
    "        \"feedback\": {\"Interstellar\": 5, \"Inception\": 4, \"Iron Man\": 3}\n",
    "    }\n",
    "}"
   ]
  },
  {
   "cell_type": "code",
   "execution_count": 12,
   "metadata": {},
   "outputs": [
    {
     "name": "stdout",
     "output_type": "stream",
     "text": [
      "🎥 Personalized Recommendations: ['The Avengers', 'E.T. the Extra-Terrestrial', 'Interstellar']\n"
     ]
    }
   ],
   "source": [
    "def get_personalized_recommendations(user_id, k=3):\n",
    "    user_profile = user_profiles[user_id]\n",
    "    liked_genres = set(user_profile[\"liked_genres\"])\n",
    "    favorite_actors = set(user_profile[\"favorite_actors\"])\n",
    "    \n",
    "    results = []\n",
    "    \n",
    "    for movie in user_profile[\"recent_watches\"]:\n",
    "        movie_results = get_similar_movies(movie, k=5)\n",
    "        for doc in movie_results:\n",
    "            movie_data = df[df[\"Series_Title\"] == doc].iloc[0]\n",
    "            if any(genre in liked_genres for genre in movie_data[\"Genre\"].split(\", \")) or \\\n",
    "               any(actor in favorite_actors for actor in [movie_data[\"Star1\"], movie_data[\"Star2\"], movie_data[\"Star3\"], movie_data[\"Star4\"]]):\n",
    "                results.append(movie_data[\"Series_Title\"])\n",
    "    \n",
    "    return list(set(results))[:k]\n",
    "\n",
    "print(\"🎥 Personalized Recommendations:\", get_personalized_recommendations(\"U001\"))"
   ]
  },
  {
   "cell_type": "markdown",
   "metadata": {},
   "source": [
    "# AI-Powered Explanations"
   ]
  },
  {
   "cell_type": "code",
   "execution_count": 13,
   "metadata": {},
   "outputs": [],
   "source": [
    "import os\n",
    "from dotenv import load_dotenv\n",
    "from langchain_groq import ChatGroq\n",
    "\n",
    "# Load environment variables\n",
    "load_dotenv()\n",
    "\n",
    "# Store API keys\n",
    "groq_api_key = os.environ.get('GROQ_API_KEY')\n",
    "\n",
    "# Set environment variables for dependent libraries\n",
    "os.environ[\"GROQ_API_KEY\"] = groq_api_key\n",
    "\n",
    "groq_llm = ChatGroq(api_key=groq_api_key, model_name=\"llama3-8b-8192\", temperature=0.5)"
   ]
  },
  {
   "cell_type": "code",
   "execution_count": 14,
   "metadata": {},
   "outputs": [
    {
     "name": "stderr",
     "output_type": "stream",
     "text": [
      "/tmp/ipykernel_141200/1979937381.py:9: LangChainDeprecationWarning: The class `LLMChain` was deprecated in LangChain 0.1.17 and will be removed in 1.0. Use :meth:`~RunnableSequence, e.g., `prompt | llm`` instead.\n",
      "  chain = LLMChain(llm=groq_llm, prompt=prompt)\n",
      "/tmp/ipykernel_141200/1979937381.py:11: LangChainDeprecationWarning: The method `Chain.run` was deprecated in langchain 0.1.0 and will be removed in 1.0. Use :meth:`~invoke` instead.\n",
      "  response = chain.run(movie=\"The Matrix\", user=\"U001\")\n"
     ]
    },
    {
     "name": "stdout",
     "output_type": "stream",
     "text": [
      "A fun challenge!\n",
      "\n",
      "U001's preferences are:\n",
      "\n",
      "* Favorite books: Science fiction, fantasy, and horror\n",
      "* Favorite authors: Isaac Asimov, Frank Herbert, and H.P. Lovecraft\n",
      "* Favorite movies: Blade Runner, Star Wars, and The Silence of the Lambs\n",
      "* Favorite TV shows: Doctor Who, Star Trek, and The X-Files\n",
      "* Favorite music: Electronic, industrial, and ambient\n",
      "\n",
      "Considering these preferences, here's why U001 might like The Matrix:\n",
      "\n",
      "1. **Science fiction**: The Matrix is a thought-provoking sci-fi movie that explores complex themes like the nature of reality, free will, and the impact of technology on society. U001's love for science fiction makes this a natural fit.\n",
      "2. **Philosophical themes**: The movie's exploration of the Matrix as a simulated reality raises questions about the nature of existence, which aligns with U001's interest in philosophical and thought-provoking content.\n",
      "3. **Action and suspense**: The Matrix is known for its innovative action sequences and suspenseful plot, which might appeal to U001's appreciation for movies like Blade Runner and The Silence of the Lambs.\n",
      "4. **Dystopian setting**: The Matrix's dystopian world, where humans are unknowingly trapped in a simulated reality, might resonate with U001's interest in horror and dark themes.\n",
      "5. **Innovative storytelling**: The Matrix's unique narrative structure, which combines elements of sci-fi, action, and philosophy, might appeal to U001's appreciation for complex storytelling and intellectual themes.\n",
      "\n",
      "Given U001's preferences, it's likely that they would appreciate The Matrix's thought-provoking themes, innovative storytelling, and action-packed sequences.\n"
     ]
    }
   ],
   "source": [
    "from langchain.prompts import PromptTemplate\n",
    "from langchain.chains import LLMChain\n",
    "\n",
    "prompt = PromptTemplate(\n",
    "    input_variables=[\"movie\", \"user\"],\n",
    "    template=\"Explain why {user} might like the movie {movie} based on their preferences.\"\n",
    ")\n",
    "\n",
    "chain = LLMChain(llm=groq_llm, prompt=prompt)\n",
    "\n",
    "response = chain.run(movie=\"The Matrix\", user=\"U001\")\n",
    "\n",
    "print(response)"
   ]
  }
 ],
 "metadata": {
  "kernelspec": {
   "display_name": "base",
   "language": "python",
   "name": "python3"
  },
  "language_info": {
   "codemirror_mode": {
    "name": "ipython",
    "version": 3
   },
   "file_extension": ".py",
   "mimetype": "text/x-python",
   "name": "python",
   "nbconvert_exporter": "python",
   "pygments_lexer": "ipython3",
   "version": "3.12.7"
  }
 },
 "nbformat": 4,
 "nbformat_minor": 2
}
