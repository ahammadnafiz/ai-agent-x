{
 "cells": [
  {
   "cell_type": "code",
   "execution_count": 10,
   "id": "efcc154e",
   "metadata": {},
   "outputs": [],
   "source": [
    "import os\n",
    "import warnings\n",
    "from dotenv import load_dotenv\n",
    "import pandas as pd\n",
    "from langchain.chains import ConversationChain\n",
    "from langchain.prompts import ChatPromptTemplate\n",
    "from langchain_groq import ChatGroq"
   ]
  },
  {
   "cell_type": "code",
   "execution_count": 2,
   "id": "472d8943",
   "metadata": {},
   "outputs": [],
   "source": [
    "warnings.filterwarnings('ignore')"
   ]
  },
  {
   "cell_type": "code",
   "execution_count": 4,
   "id": "9f50a65d",
   "metadata": {},
   "outputs": [],
   "source": [
    "load_dotenv()\n",
    "groq_api_key = os.getenv('GROQ_API_KEY')"
   ]
  },
  {
   "cell_type": "code",
   "execution_count": 5,
   "id": "96f433c2",
   "metadata": {},
   "outputs": [],
   "source": [
    "llm = ChatGroq(temperature=0, groq_api_key=groq_api_key, model_name=\"llama3-8b-8192\")"
   ]
  },
  {
   "cell_type": "code",
   "execution_count": 31,
   "id": "5c6c3a03",
   "metadata": {},
   "outputs": [],
   "source": [
    "df = pd.read_csv('Data.csv')"
   ]
  },
  {
   "cell_type": "code",
   "execution_count": 32,
   "id": "74c8fd59",
   "metadata": {},
   "outputs": [
    {
     "data": {
      "text/html": [
       "<div>\n",
       "<style scoped>\n",
       "    .dataframe tbody tr th:only-of-type {\n",
       "        vertical-align: middle;\n",
       "    }\n",
       "\n",
       "    .dataframe tbody tr th {\n",
       "        vertical-align: top;\n",
       "    }\n",
       "\n",
       "    .dataframe thead th {\n",
       "        text-align: right;\n",
       "    }\n",
       "</style>\n",
       "<table border=\"1\" class=\"dataframe\">\n",
       "  <thead>\n",
       "    <tr style=\"text-align: right;\">\n",
       "      <th></th>\n",
       "      <th>Product</th>\n",
       "      <th>Review</th>\n",
       "    </tr>\n",
       "  </thead>\n",
       "  <tbody>\n",
       "    <tr>\n",
       "      <th>0</th>\n",
       "      <td>Queen Size Sheet Set</td>\n",
       "      <td>I ordered a king size set. My only criticism w...</td>\n",
       "    </tr>\n",
       "    <tr>\n",
       "      <th>1</th>\n",
       "      <td>Waterproof Phone Pouch</td>\n",
       "      <td>I loved the waterproof sac, although the openi...</td>\n",
       "    </tr>\n",
       "    <tr>\n",
       "      <th>2</th>\n",
       "      <td>Luxury Air Mattress</td>\n",
       "      <td>This mattress had a small hole in the top of i...</td>\n",
       "    </tr>\n",
       "    <tr>\n",
       "      <th>3</th>\n",
       "      <td>Pillows Insert</td>\n",
       "      <td>This is the best throw pillow fillers on Amazo...</td>\n",
       "    </tr>\n",
       "    <tr>\n",
       "      <th>4</th>\n",
       "      <td>Milk Frother Handheld\\n</td>\n",
       "      <td>I loved this product. But they only seem to l...</td>\n",
       "    </tr>\n",
       "  </tbody>\n",
       "</table>\n",
       "</div>"
      ],
      "text/plain": [
       "                   Product                                             Review\n",
       "0     Queen Size Sheet Set  I ordered a king size set. My only criticism w...\n",
       "1   Waterproof Phone Pouch  I loved the waterproof sac, although the openi...\n",
       "2      Luxury Air Mattress  This mattress had a small hole in the top of i...\n",
       "3           Pillows Insert  This is the best throw pillow fillers on Amazo...\n",
       "4  Milk Frother Handheld\\n   I loved this product. But they only seem to l..."
      ]
     },
     "execution_count": 32,
     "metadata": {},
     "output_type": "execute_result"
    }
   ],
   "source": [
    "df.head()"
   ]
  },
  {
   "cell_type": "markdown",
   "id": "7cbb7f67",
   "metadata": {},
   "source": [
    "## LLMChain"
   ]
  },
  {
   "cell_type": "code",
   "execution_count": 9,
   "id": "1d64c949",
   "metadata": {},
   "outputs": [],
   "source": [
    "from langchain.chains import LLMChain"
   ]
  },
  {
   "cell_type": "code",
   "execution_count": 16,
   "id": "90236625",
   "metadata": {},
   "outputs": [],
   "source": [
    "prompt = ChatPromptTemplate.from_template(\n",
    "    \"What is the best Marketing_Channel that produces \\\n",
    "    new {New_Customers}? in short 2-3 sentences\"\n",
    ")"
   ]
  },
  {
   "cell_type": "code",
   "execution_count": 14,
   "id": "a3dae408",
   "metadata": {},
   "outputs": [],
   "source": [
    "chain = LLMChain(llm=llm, prompt=prompt)"
   ]
  },
  {
   "cell_type": "code",
   "execution_count": 17,
   "id": "a60d1e96",
   "metadata": {},
   "outputs": [
    {
     "name": "stdout",
     "output_type": "stream",
     "text": [
      "The million-dollar question!\n",
      "\n",
      "The best marketing channel that produces new customers (also known as \"new 20\") can vary depending on your industry, target audience, and marketing strategy. However, based on various studies and industry reports, here are some of the most effective marketing channels that can help you acquire new customers:\n",
      "\n",
      "1. **Email Marketing**: Email marketing is a powerful channel for acquiring new customers. According to a study by Campaign Monitor, email marketing has an average return on investment (ROI) of 4400%.\n",
      "2. **Social Media Advertising**: Social media platforms like Facebook, Instagram, and LinkedIn offer powerful advertising options that can help you reach new customers. According to a study by Hootsuite, social media advertising has an average ROI of 150%.\n",
      "3. **Content Marketing**: Creating high-quality, relevant, and valuable content can help you attract new customers. According to a study by Content Marketing Institute, content marketing has an average ROI of 300%.\n",
      "4. **Search Engine Optimization (SEO)**: Optimizing your website for search engines can help you attract new customers who are searching for products or services like yours. According to a study by Search Engine Land, SEO has an average ROI of 800%.\n",
      "5. **Influencer Marketing**: Partnering with influencers in your industry can help you reach new customers who trust the opinions of influencers. According to a study by Tomoson, influencer marketing has an average ROI of 650%.\n",
      "6. **Referral Marketing**: Encouraging your existing customers to refer their friends and family can be an effective way to acquire new customers. According to a study by Wharton School of the University of Pennsylvania, referral marketing has an average ROI of 300%.\n",
      "7. **Paid Search Advertising**: Paid search advertising, also known as pay-per-click (PPC) advertising, can help you reach new customers who are searching for products or services like yours. According to a study by Search Engine Land, paid search advertising has an average ROI of 200%.\n",
      "8. **Affiliate Marketing**: Partnering with affiliates who promote your products or services can help you reach new customers. According to a study by Affiliate Marketing Hub, affiliate marketing has an average ROI of 250%.\n",
      "9. **Video Marketing**: Creating high-quality video content can help you attract new customers. According to a study by HubSpot, video marketing has an average ROI of 200%.\n",
      "10. **Podcast Advertising**: Advertising on popular podcasts can help you reach new customers who are interested in your industry. According to a study by AdvertiseCast, podcast advertising has an average ROI of 150%.\n",
      "\n",
      "Remember, the best marketing channel for acquiring new customers will depend on your specific business, target audience, and marketing strategy. It's essential to test and measure the effectiveness of different marketing channels to find what works best for your business.\n"
     ]
    }
   ],
   "source": [
    "new_customer = 20\n",
    "print(chain.run(new_customer))"
   ]
  },
  {
   "cell_type": "markdown",
   "id": "29c159ab",
   "metadata": {},
   "source": [
    "## SimpleSequentialChain"
   ]
  },
  {
   "cell_type": "code",
   "execution_count": 18,
   "id": "27209a4c",
   "metadata": {},
   "outputs": [],
   "source": [
    "from langchain.chains import SimpleSequentialChain"
   ]
  },
  {
   "cell_type": "code",
   "execution_count": 19,
   "id": "08637120",
   "metadata": {},
   "outputs": [],
   "source": [
    "llm = ChatGroq(temperature=0, groq_api_key=groq_api_key, model_name=\"llama3-8b-8192\")"
   ]
  },
  {
   "cell_type": "code",
   "execution_count": 20,
   "id": "89390d9c",
   "metadata": {},
   "outputs": [],
   "source": [
    "# prompt template 1\n",
    "first_prompt = ChatPromptTemplate.from_template(\n",
    "    \"What is the best name to describe \\\n",
    "    a company that makes {product}?\"\n",
    ")\n",
    "\n",
    "# Chain 1\n",
    "chain_one = LLMChain(llm=llm, prompt=first_prompt)"
   ]
  },
  {
   "cell_type": "code",
   "execution_count": 21,
   "id": "51df286b",
   "metadata": {},
   "outputs": [],
   "source": [
    "# prompt template 2\n",
    "second_prompt = ChatPromptTemplate.from_template(\n",
    "    \"Write a 20 words description for the following \\\n",
    "    company:{company_name}\"\n",
    ")\n",
    "# chain 2\n",
    "chain_two = LLMChain(llm=llm, prompt=second_prompt)"
   ]
  },
  {
   "cell_type": "code",
   "execution_count": 22,
   "id": "8cb6428f",
   "metadata": {},
   "outputs": [],
   "source": [
    "overall_simple_chain = SimpleSequentialChain(chains=[chain_one, chain_two],\n",
    "                                             verbose=True\n",
    "                                            )"
   ]
  },
  {
   "cell_type": "code",
   "execution_count": 24,
   "id": "2ce13b52",
   "metadata": {},
   "outputs": [
    {
     "name": "stdout",
     "output_type": "stream",
     "text": [
      "\n",
      "\n",
      "\u001b[1m> Entering new SimpleSequentialChain chain...\u001b[0m\n",
      "\u001b[36;1m\u001b[1;3mNaming a company can be a challenging but exciting task. Here are some suggestions for a company that makes men's face wash:\n",
      "\n",
      "1. **FaceForge**: A play on the word \"forge,\" implying strength and resilience, which is perfect for a men's grooming product.\n",
      "2. **ManeMatters**: A clever name that references the importance of men's grooming, with a nod to the word \"matters\" to emphasize the significance of taking care of one's skin.\n",
      "3. **Beard & Beyond**: This name acknowledges the popular beard trend while also hinting at the idea that the company's products can help men take care of their skin beyond just their beard.\n",
      "4. **Razor's Edge**: A name that references the sharp, clean shave that many men strive for, while also implying a sense of precision and effectiveness.\n",
      "5. **CleanCut**: A simple, straightforward name that conveys the idea of a clean, refreshing face wash that leaves skin feeling smooth and revitalized.\n",
      "6. **Grit & Glow**: A name that combines the idea of toughness and resilience (grit) with the idea of radiant, healthy-looking skin (glow).\n",
      "7. **FaceForward**: A name that encourages men to take control of their skin care and face the day with confidence.\n",
      "8. **Bristle & Bloom**: A whimsical name that references the idea of a clean, well-groomed beard (bristle) and the idea of healthy, flourishing skin (bloom).\n",
      "9. **Manscape**: A playful name that references the idea of shaping and maintaining one's appearance, while also hinting at the idea of a well-groomed landscape.\n",
      "10. **PurePursuit**: A name that conveys the idea of a relentless pursuit of clean, healthy skin, with a nod to the idea of a \"pursuit\" of excellence.\n",
      "\n",
      "Remember to choose a name that reflects your brand values, resonates with your target audience, and is easy to remember and pronounce. Good luck with your company!\u001b[0m\n",
      "\u001b[33;1m\u001b[1;3mHere is a 20-word description for the company:\n",
      "\n",
      "\"FaceForge, a pioneering men's grooming brand, crafts innovative face washes that empower men to take control of their skin and radiate confidence.\"\u001b[0m\n",
      "\n",
      "\u001b[1m> Finished chain.\u001b[0m\n",
      "Here is a 20-word description for the company:\n",
      "\n",
      "\"FaceForge, a pioneering men's grooming brand, crafts innovative face washes that empower men to take control of their skin and radiate confidence.\"\n"
     ]
    }
   ],
   "source": [
    "product = 'Men Face Wash'\n",
    "print(overall_simple_chain.run(product))"
   ]
  },
  {
   "cell_type": "markdown",
   "id": "67a8df22",
   "metadata": {},
   "source": [
    "## SequentialChain"
   ]
  },
  {
   "cell_type": "code",
   "execution_count": 25,
   "id": "fffaa9be",
   "metadata": {},
   "outputs": [],
   "source": [
    "from langchain.chains import SequentialChain"
   ]
  },
  {
   "cell_type": "code",
   "execution_count": 26,
   "id": "76f8bc42",
   "metadata": {},
   "outputs": [],
   "source": [
    "# prompt template 1: translate to english\n",
    "first_prompt = ChatPromptTemplate.from_template(\n",
    "    \"Translate the following review to english:\"\n",
    "    \"\\n\\n{Review}\"\n",
    ")\n",
    "# chain 1: input= Review and output= English_Review\n",
    "chain_one = LLMChain(llm=llm, prompt=first_prompt, \n",
    "                     output_key=\"English_Review\"\n",
    "                    )\n"
   ]
  },
  {
   "cell_type": "code",
   "execution_count": 27,
   "id": "9364ef07",
   "metadata": {},
   "outputs": [],
   "source": [
    "second_prompt = ChatPromptTemplate.from_template(\n",
    "    \"Can you summarize the following review in 1 sentence:\"\n",
    "    \"\\n\\n{English_Review}\"\n",
    ")\n",
    "# chain 2: input= English_Review and output= summary\n",
    "chain_two = LLMChain(llm=llm, prompt=second_prompt, \n",
    "                     output_key=\"summary\"\n",
    "                    )\n"
   ]
  },
  {
   "cell_type": "code",
   "execution_count": 28,
   "id": "46acedc0",
   "metadata": {},
   "outputs": [],
   "source": [
    "# prompt template 3: translate to english\n",
    "third_prompt = ChatPromptTemplate.from_template(\n",
    "    \"What language is the following review:\\n\\n{Review}\"\n",
    ")\n",
    "# chain 3: input= Review and output= language\n",
    "chain_three = LLMChain(llm=llm, prompt=third_prompt,\n",
    "                       output_key=\"language\"\n",
    "                      )\n"
   ]
  },
  {
   "cell_type": "code",
   "execution_count": 30,
   "id": "8596ea4f",
   "metadata": {},
   "outputs": [],
   "source": [
    "# prompt template 4: follow up message\n",
    "fourth_prompt = ChatPromptTemplate.from_template(\n",
    "    \"Write a follow up response to the following \"\n",
    "    \"summary in the specified language:\"\n",
    "    \"\\n\\nSummary: {summary}\\n\\nLanguage: {language}\"\n",
    ")\n",
    "# chain 4: input= summary, language and output= followup_message\n",
    "chain_four = LLMChain(llm=llm, prompt=fourth_prompt,\n",
    "                      output_key=\"followup_message\"\n",
    "                     )\n"
   ]
  },
  {
   "cell_type": "code",
   "execution_count": 33,
   "id": "22b6fe91",
   "metadata": {},
   "outputs": [],
   "source": [
    "# overall_chain: input= Review \n",
    "# and output= English_Review,summary, followup_message\n",
    "overall_chain = SequentialChain(\n",
    "    chains=[chain_one, chain_two, chain_three, chain_four],\n",
    "    input_variables=[\"Review\"],\n",
    "    output_variables=[\"English_Review\", \"summary\",\"followup_message\"],\n",
    "    verbose=True\n",
    ")"
   ]
  },
  {
   "cell_type": "code",
   "execution_count": 34,
   "id": "acf5b717",
   "metadata": {},
   "outputs": [
    {
     "name": "stdout",
     "output_type": "stream",
     "text": [
      "\n",
      "\n",
      "\u001b[1m> Entering new SequentialChain chain...\u001b[0m\n",
      "\n",
      "\u001b[1m> Finished chain.\u001b[0m\n"
     ]
    },
    {
     "data": {
      "text/plain": [
       "{'Review': \"Je trouve le goût médiocre. La mousse ne tient pas, c'est bizarre. J'achète les mêmes dans le commerce et le goût est bien meilleur...\\nVieux lot ou contrefaçon !?\",\n",
       " 'English_Review': 'Here is the translation:\\n\\n\"I find the taste mediocre. The mousse doesn\\'t hold up, it\\'s weird. I buy the same ones in stores and the taste is much better...\\nOld lot or counterfeit?!\"\\n\\nThe reviewer is expressing disappointment with the product, saying that the taste is mediocre and the mousse doesn\\'t hold up well. They compare it to buying the same product in stores, which has a better taste. The final question \"Vieux lot ou contrefaçon ?!\" is a rhetorical question, implying that the product is either old or counterfeit.',\n",
       " 'summary': 'The reviewer is disappointed with the product, finding the taste mediocre and the mousse texture poor, and suspects that it may be an old or counterfeit product.',\n",
       " 'followup_message': 'Voici ma réponse :\\n\\n« Je suis déçu par ce produit, car le goût est médiocre et la texture en mousse est décevante. Je soupçonne même que ce pourrait être un produit vieilli ou contrefait. Je ne recommande pas ce produit à personne. Je suis désolé que j\\'ai perdu mon argent pour quelque chose qui ne vaut pas la peine. Je vais être plus prudent à l\\'avenir en choisissant des marques plus réputées. »\\n\\nTranslation:\\n\\n\"I\\'m disappointed with this product, as the taste is mediocre and the mousse texture is disappointing. I even suspect that it might be an old or counterfeit product. I do not recommend this product to anyone. I\\'m sorry that I wasted my money on something that\\'s not worth it. I\\'ll be more careful in the future by choosing more reputable brands.\"'}"
      ]
     },
     "execution_count": 34,
     "metadata": {},
     "output_type": "execute_result"
    }
   ],
   "source": [
    "review = df.Review[5]\n",
    "overall_chain(review)"
   ]
  },
  {
   "cell_type": "markdown",
   "id": "a219ad5d",
   "metadata": {},
   "source": [
    "## Router Chain"
   ]
  },
  {
   "cell_type": "code",
   "execution_count": 35,
   "id": "c03d6f78",
   "metadata": {},
   "outputs": [],
   "source": [
    "physics_template = \"\"\"You are a very smart physics professor. \\\n",
    "You are great at answering questions about physics in a concise\\\n",
    "and easy to understand manner. \\\n",
    "When you don't know the answer to a question you admit\\\n",
    "that you don't know.\n",
    "\n",
    "Here is a question:\n",
    "{input}\"\"\"\n",
    "\n",
    "\n",
    "math_template = \"\"\"You are a very good mathematician. \\\n",
    "You are great at answering math questions. \\\n",
    "You are so good because you are able to break down \\\n",
    "hard problems into their component parts, \n",
    "answer the component parts, and then put them together\\\n",
    "to answer the broader question.\n",
    "\n",
    "Here is a question:\n",
    "{input}\"\"\"\n",
    "\n",
    "history_template = \"\"\"You are a very good historian. \\\n",
    "You have an excellent knowledge of and understanding of people,\\\n",
    "events and contexts from a range of historical periods. \\\n",
    "You have the ability to think, reflect, debate, discuss and \\\n",
    "evaluate the past. You have a respect for historical evidence\\\n",
    "and the ability to make use of it to support your explanations \\\n",
    "and judgements.\n",
    "\n",
    "Here is a question:\n",
    "{input}\"\"\"\n",
    "\n",
    "\n",
    "computerscience_template = \"\"\" You are a successful computer scientist.\\\n",
    "You have a passion for creativity, collaboration,\\\n",
    "forward-thinking, confidence, strong problem-solving capabilities,\\\n",
    "understanding of theories and algorithms, and excellent communication \\\n",
    "skills. You are great at answering coding questions. \\\n",
    "You are so good because you know how to solve a problem by \\\n",
    "describing the solution in imperative steps \\\n",
    "that a machine can easily interpret and you know how to \\\n",
    "choose a solution that has a good balance between \\\n",
    "time complexity and space complexity. \n",
    "\n",
    "Here is a question:\n",
    "{input}\"\"\""
   ]
  },
  {
   "cell_type": "code",
   "execution_count": 36,
   "id": "fe9ca267",
   "metadata": {},
   "outputs": [],
   "source": [
    "prompt_infos = [\n",
    "    {\n",
    "        \"name\": \"physics\", \n",
    "        \"description\": \"Good for answering questions about physics\", \n",
    "        \"prompt_template\": physics_template\n",
    "    },\n",
    "    {\n",
    "        \"name\": \"math\", \n",
    "        \"description\": \"Good for answering math questions\", \n",
    "        \"prompt_template\": math_template\n",
    "    },\n",
    "    {\n",
    "        \"name\": \"History\", \n",
    "        \"description\": \"Good for answering history questions\", \n",
    "        \"prompt_template\": history_template\n",
    "    },\n",
    "    {\n",
    "        \"name\": \"computer science\", \n",
    "        \"description\": \"Good for answering computer science questions\", \n",
    "        \"prompt_template\": computerscience_template\n",
    "    }\n",
    "]"
   ]
  },
  {
   "cell_type": "code",
   "execution_count": 37,
   "id": "8676b2d8",
   "metadata": {},
   "outputs": [],
   "source": [
    "from langchain.chains.router import MultiPromptChain\n",
    "from langchain.chains.router.llm_router import LLMRouterChain,RouterOutputParser\n",
    "from langchain.prompts import PromptTemplate"
   ]
  },
  {
   "cell_type": "code",
   "execution_count": 38,
   "id": "b750915a",
   "metadata": {},
   "outputs": [],
   "source": [
    "destination_chains = {}\n",
    "for p_info in prompt_infos:\n",
    "    name = p_info[\"name\"]\n",
    "    prompt_template = p_info[\"prompt_template\"]\n",
    "    prompt = ChatPromptTemplate.from_template(template=prompt_template)\n",
    "    chain = LLMChain(llm=llm, prompt=prompt)\n",
    "    destination_chains[name] = chain  \n",
    "    \n",
    "destinations = [f\"{p['name']}: {p['description']}\" for p in prompt_infos]\n",
    "destinations_str = \"\\n\".join(destinations)"
   ]
  },
  {
   "cell_type": "code",
   "execution_count": 39,
   "id": "220cf435",
   "metadata": {},
   "outputs": [],
   "source": [
    "default_prompt = ChatPromptTemplate.from_template(\"{input}\")\n",
    "default_chain = LLMChain(llm=llm, prompt=default_prompt)"
   ]
  },
  {
   "cell_type": "code",
   "execution_count": 40,
   "id": "b2171dbc",
   "metadata": {},
   "outputs": [],
   "source": [
    "MULTI_PROMPT_ROUTER_TEMPLATE = \"\"\"Given a raw text input to a \\\n",
    "language model select the model prompt best suited for the input. \\\n",
    "You will be given the names of the available prompts and a \\\n",
    "description of what the prompt is best suited for. \\\n",
    "You may also revise the original input if you think that revising\\\n",
    "it will ultimately lead to a better response from the language model.\n",
    "\n",
    "<< FORMATTING >>\n",
    "Return a markdown code snippet with a JSON object formatted to look like:\n",
    "```json\n",
    "{{{{\n",
    "    \"destination\": string \\ name of the prompt to use or \"DEFAULT\"\n",
    "    \"next_inputs\": string \\ a potentially modified version of the original input\n",
    "}}}}\n",
    "```\n",
    "\n",
    "REMEMBER: \"destination\" MUST be one of the candidate prompt \\\n",
    "names specified below OR it can be \"DEFAULT\" if the input is not\\\n",
    "well suited for any of the candidate prompts.\n",
    "REMEMBER: \"next_inputs\" can just be the original input \\\n",
    "if you don't think any modifications are needed.\n",
    "\n",
    "<< CANDIDATE PROMPTS >>\n",
    "{destinations}\n",
    "\n",
    "<< INPUT >>\n",
    "{{input}}\n",
    "\n",
    "<< OUTPUT (remember to include the ```json)>>\"\"\""
   ]
  },
  {
   "cell_type": "code",
   "execution_count": 41,
   "id": "fa98a4c7",
   "metadata": {},
   "outputs": [],
   "source": [
    "router_template = MULTI_PROMPT_ROUTER_TEMPLATE.format(\n",
    "    destinations=destinations_str\n",
    ")\n",
    "router_prompt = PromptTemplate(\n",
    "    template=router_template,\n",
    "    input_variables=[\"input\"],\n",
    "    output_parser=RouterOutputParser(),\n",
    ")\n",
    "\n",
    "router_chain = LLMRouterChain.from_llm(llm, router_prompt)"
   ]
  },
  {
   "cell_type": "code",
   "execution_count": 42,
   "id": "46d4c418",
   "metadata": {},
   "outputs": [],
   "source": [
    "chain = MultiPromptChain(router_chain=router_chain, \n",
    "                         destination_chains=destination_chains, \n",
    "                         default_chain=default_chain, verbose=True\n",
    "                        )"
   ]
  },
  {
   "cell_type": "code",
   "execution_count": 43,
   "id": "eb0aa8e1",
   "metadata": {},
   "outputs": [
    {
     "name": "stdout",
     "output_type": "stream",
     "text": [
      "\n",
      "\n",
      "\u001b[1m> Entering new MultiPromptChain chain...\u001b[0m\n",
      "physics: {'input': 'What is black body radiation in the context of thermodynamics?'}\n",
      "\u001b[1m> Finished chain.\u001b[0m\n"
     ]
    },
    {
     "data": {
      "text/plain": [
       "\"Black body radiation is a fundamental concept in thermodynamics, and it's a fascinating topic.\\n\\nIn the context of thermodynamics, black body radiation refers to the thermal radiation emitted by an idealized object, known as a blackbody, when it is heated to a high temperature. A blackbody is an idealized object that absorbs all the radiation that falls on it, without reflecting or transmitting any of it.\\n\\nWhen a blackbody is heated, it emits radiation across a wide range of wavelengths, from the ultraviolet to the infrared. This radiation is known as blackbody radiation. The key characteristic of blackbody radiation is that it is independent of the properties of the emitting object; it only depends on the temperature of the object.\\n\\nIn other words, the radiation emitted by a blackbody is solely determined by its temperature, and not by its composition, shape, or size. This is in contrast to other types of radiation, such as the radiation emitted by a light bulb or a star, which depends on the specific properties of the emitting object.\\n\\nThe concept of blackbody radiation was first studied by Max Planck in the late 19th century, and it played a crucial role in the development of quantum mechanics. Today, blackbody radiation is still an important area of research, with applications in fields such as astronomy, materials science, and engineering.\\n\\nI hope that helps! Do you have any follow-up questions about blackbody radiation?\""
      ]
     },
     "execution_count": 43,
     "metadata": {},
     "output_type": "execute_result"
    }
   ],
   "source": [
    "chain.run(\"What is black body radiation?\")"
   ]
  },
  {
   "cell_type": "code",
   "execution_count": 45,
   "id": "8f1e7c2b",
   "metadata": {},
   "outputs": [
    {
     "name": "stdout",
     "output_type": "stream",
     "text": [
      "\n",
      "\n",
      "\u001b[1m> Entering new MultiPromptChain chain...\u001b[0m\n",
      "physics: {'input': \"Why does every cell in our body contain DNA? (assuming it's because DNA contains the genetic instructions for the development and function of all living organisms)\"}\n",
      "\u001b[1m> Finished chain.\u001b[0m\n"
     ]
    },
    {
     "data": {
      "text/plain": [
       "\"What a great question!\\n\\nYou're absolutely right that DNA contains the genetic instructions for the development and function of all living organisms. And that's precisely why every cell in our body contains DNA.\\n\\nHere's the thing: DNA is like a blueprint or a set of instructions that contains the genetic information necessary for the development and function of an organism. It's like a recipe book for building and maintaining life.\\n\\nEvery cell in our body contains DNA because it's essential for the cell to know how to function properly. Think of it like a computer program: just as a computer needs software to run, a cell needs DNA to know how to perform its specific functions.\\n\\nIn other words, DNA contains the instructions for the cell to:\\n\\n1. Grow and divide\\n2. Respond to its environment\\n3. Regulate its internal processes\\n4. Maintain its structure and function\\n\\nWithout DNA, a cell would be like a computer without software – it wouldn't know how to do its job!\\n\\nSo, to summarize, every cell in our body contains DNA because it's essential for the cell to know how to function properly and maintain its role in the overall functioning of the organism.\\n\\nNow, I hope that answers your question!\""
      ]
     },
     "execution_count": 45,
     "metadata": {},
     "output_type": "execute_result"
    }
   ],
   "source": [
    "chain.run(\"Why does every cell in our body contain DNA?\")"
   ]
  }
 ],
 "metadata": {
  "kernelspec": {
   "display_name": "Python 3 (ipykernel)",
   "language": "python",
   "name": "python3"
  },
  "language_info": {
   "codemirror_mode": {
    "name": "ipython",
    "version": 3
   },
   "file_extension": ".py",
   "mimetype": "text/x-python",
   "name": "python",
   "nbconvert_exporter": "python",
   "pygments_lexer": "ipython3",
   "version": "3.11.5"
  }
 },
 "nbformat": 4,
 "nbformat_minor": 5
}
